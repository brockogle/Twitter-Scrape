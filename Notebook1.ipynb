{
 "cells": [
  {
   "cell_type": "markdown",
   "metadata": {},
   "source": [
    "# Notebook 1 - Twitter API\n",
    "##### By Michael Carlin and Brock Ogle"
   ]
  },
  {
   "cell_type": "code",
   "execution_count": 5,
   "metadata": {
    "collapsed": true
   },
   "outputs": [],
   "source": [
    "from requests_oauthlib import OAuth1Session\n",
    "from requests_oauthlib import OAuth1\n",
    "import requests\n",
    "import json\n",
    "import webbrowser\n",
    "#import the currently required modules"
   ]
  },
  {
   "cell_type": "markdown",
   "metadata": {},
   "source": [
    "To create the Twitter API we visited 'https://apps.twitter.com' and after loggin in, navigated from 'Create New App' through the process of creating a new RESTful API. After Creating the API the consumer key and consumer secret can be found by navigating back to 'https://apps.twitter.com', selecting the App you are using, and navigating to the 'Keys and Access Tokens' tab. It is here the Consumer Key and Consumer Secret are located. There is also a section to generate an access code, although this method is used only for the API owner to use the API. The steps to the OAuth1 dance were learned and adjusted using the resources provided by 'https://developers.twitter.com' as well as trial and error."
   ]
  },
  {
   "cell_type": "code",
   "execution_count": 6,
   "metadata": {
    "collapsed": true
   },
   "outputs": [],
   "source": [
    "#Common URLs for use in OAuth1 Dance\n",
    "REQUEST_TOKEN_URL = 'https://api.twitter.com/oauth/request_token'\n",
    "ACCESS_TOKEN_URL = 'https://api.twitter.com/oauth/access_token'\n",
    "AUTHORIZATION_URL = 'https://api.twitter.com/oauth/authorize'"
   ]
  },
  {
   "cell_type": "code",
   "execution_count": 7,
   "metadata": {
    "collapsed": true
   },
   "outputs": [],
   "source": [
    "#Found in 'Keys and Access Tokens' for API on https://apps.twitter.com\n",
    "consumer_key = 'mKaokNDq5tfujhkCHSxvn9Z3j'\n",
    "consumer_secret = 'yETdUxoAGR0I3stzBUd57wTBTW8b1PMa8sIJHrRS5oIZH88Y8D'"
   ]
  },
  {
   "cell_type": "code",
   "execution_count": 8,
   "metadata": {
    "collapsed": true
   },
   "outputs": [],
   "source": [
    "#Initial step of OAuth1 dance, establishes client connection\n",
    "oauth_client = OAuth1Session(consumer_key,consumer_secret)"
   ]
  },
  {
   "cell_type": "code",
   "execution_count": 9,
   "metadata": {},
   "outputs": [
    {
     "data": {
      "text/plain": [
       "{u'oauth_callback_confirmed': u'true',\n",
       " u'oauth_token': u'NPrQwAAAAAAA3fpXAAABYEoEAgY',\n",
       " u'oauth_token_secret': u'p6J5Vwua0XfWMJZAQdbpQb7IG2FgVJwq'}"
      ]
     },
     "execution_count": 9,
     "metadata": {},
     "output_type": "execute_result"
    }
   ],
   "source": [
    "#fetches request authorization token to be used in Authorization URL\n",
    "resp = oauth_client.fetch_request_token(REQUEST_TOKEN_URL)\n",
    "resp"
   ]
  },
  {
   "cell_type": "code",
   "execution_count": 10,
   "metadata": {
    "collapsed": true
   },
   "outputs": [],
   "source": [
    "#establishes an autorization endpoint\n",
    "url = oauth_client.authorization_url(AUTHORIZATION_URL)"
   ]
  },
  {
   "cell_type": "code",
   "execution_count": 11,
   "metadata": {},
   "outputs": [
    {
     "data": {
      "text/plain": [
       "True"
      ]
     },
     "execution_count": 11,
     "metadata": {},
     "output_type": "execute_result"
    }
   ],
   "source": [
    "#Takes user to authorization endpoint and requires login before moving on\n",
    "webbrowser.open(url)"
   ]
  },
  {
   "cell_type": "code",
   "execution_count": 12,
   "metadata": {},
   "outputs": [
    {
     "name": "stdout",
     "output_type": "stream",
     "text": [
      "\n",
      "Copy and paste code: 1919289\n"
     ]
    }
   ],
   "source": [
    "#User must type in code provided by authorization endpoint to verify they arrived\n",
    "#at the correct authorization endpoint\n",
    "pincode = raw_input('\\nCopy and paste code: ')"
   ]
  },
  {
   "cell_type": "code",
   "execution_count": 13,
   "metadata": {
    "collapsed": true
   },
   "outputs": [],
   "source": [
    "#Establishes new client connection\n",
    "oauth_client = OAuth1Session(consumer_key,client_secret=consumer_secret,\n",
    "                                 resource_owner_key=resp.get('oauth_token'),\n",
    "                                 resource_owner_secret=resp.get('oauth_token_secret'),\n",
    "                                 verifier=pincode)"
   ]
  },
  {
   "cell_type": "code",
   "execution_count": 14,
   "metadata": {
    "collapsed": true
   },
   "outputs": [],
   "source": [
    "#Requests and returns access token and access token secret\n",
    "resp1 = oauth_client.fetch_access_token(ACCESS_TOKEN_URL)"
   ]
  },
  {
   "cell_type": "code",
   "execution_count": 15,
   "metadata": {
    "collapsed": true
   },
   "outputs": [],
   "source": [
    "#Sets access token and secret to variables\n",
    "access_token = resp1['oauth_token']\n",
    "access_token_secret = resp1['oauth_token_secret']"
   ]
  },
  {
   "cell_type": "code",
   "execution_count": 16,
   "metadata": {},
   "outputs": [
    {
     "data": {
      "text/plain": [
       "<Response [200]>"
      ]
     },
     "execution_count": 16,
     "metadata": {},
     "output_type": "execute_result"
    }
   ],
   "source": [
    "#If response is 200, authorization tokens are valid\n",
    "url = 'https://api.twitter.com/1.1/account/verify_credentials.json'\n",
    "auth = OAuth1(consumer_key, consumer_secret, access_token, access_token_secret)\n",
    "requests.get(url, auth=auth)"
   ]
  },
  {
   "cell_type": "code",
   "execution_count": 17,
   "metadata": {
    "collapsed": true
   },
   "outputs": [],
   "source": [
    "#Creates a dictionary of valid authorization tokens\n",
    "tokens = {'consumer':{'consumer_key':consumer_key,\n",
    "                     'consumer_secret':consumer_secret},\n",
    "          'access_token':{'access_token':access_token,\n",
    "                         'access_secret':access_token_secret}}"
   ]
  },
  {
   "cell_type": "code",
   "execution_count": 18,
   "metadata": {
    "collapsed": true
   },
   "outputs": [],
   "source": [
    "#Uses json module to dump tokens dictionary to file in order\n",
    "#to be used in Notebook 2\n",
    "with open('tokens1.json','w') as f:\n",
    "    json.dump(tokens,f)"
   ]
  },
  {
   "cell_type": "code",
   "execution_count": null,
   "metadata": {
    "collapsed": true
   },
   "outputs": [],
   "source": []
  }
 ],
 "metadata": {
  "kernelspec": {
   "display_name": "Python 2",
   "language": "python",
   "name": "python2"
  },
  "language_info": {
   "codemirror_mode": {
    "name": "ipython",
    "version": 2
   },
   "file_extension": ".py",
   "mimetype": "text/x-python",
   "name": "python",
   "nbconvert_exporter": "python",
   "pygments_lexer": "ipython2",
   "version": "2.7.13"
  }
 },
 "nbformat": 4,
 "nbformat_minor": 2
}
